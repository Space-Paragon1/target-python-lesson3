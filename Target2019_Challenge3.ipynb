{
 "cells": [
  {
   "cell_type": "markdown",
   "metadata": {
    "collapsed": true
   },
   "source": [
    "# Week 3 Challenges\n",
    "\n",
    "## Challenge 3.1\n",
    "\n",
    "### Objective\n",
    "\n",
    "Create a class that has a method that can convert a roman numeral to an integer and create another method that can take an integer and turn it into a roman numeral. You may not import any modules.\n",
    "\n",
    "### Hints\n",
    "\n",
    "- Look how to take strings and splice them\n",
    "\n",
    "### Solution\n",
    "```\n",
    "my_object = roman()\n",
    "\n",
    "print(my_object.int2roman(7))\n",
    "VII\n",
    "\n",
    "print(my_object.roman2int(IX))\n",
    "9\n",
    "```"
   ]
  },
  {
   "cell_type": "code",
   "execution_count": 1,
   "metadata": {},
   "outputs": [
    {
     "name": "stdout",
     "output_type": "stream",
     "text": [
      "Solution to Challenge 1 goes here\n"
     ]
    }
   ],
   "source": [
    "print('Solution to Challenge 1 goes here')"
   ]
  },
  {
   "cell_type": "markdown",
   "metadata": {},
   "source": [
    "## Challenge 3.2\n",
    "\n",
    "### Objective\n",
    "\n",
    "Count how many words are in the web page `https://www.python.org/about/gettingstarted/`. Look specifically in the `<p></p>` tag and count the words in there. A word is any text/numbers/whatever is separated by a space, so the text, \"`Installing Python is generally easy, and nowadays`\" there are 7 words.\n",
    "\n",
    "### Hints\n",
    "\n",
    "- Use the `http.client` module to get the web page\n",
    "- Remember to convert to UTF-8\n",
    "- Use the parser if you want to get all the paragraph tags"
   ]
  },
  {
   "cell_type": "code",
   "execution_count": 2,
   "metadata": {},
   "outputs": [
    {
     "name": "stdout",
     "output_type": "stream",
     "text": [
      "Solution to Challenge 2 goes here\n"
     ]
    }
   ],
   "source": [
    "print('Solution to Challenge 2 goes here')"
   ]
  },
  {
   "cell_type": "markdown",
   "metadata": {},
   "source": [
    "## Challenge 3.3\n",
    "\n",
    "### Objective\n",
    "\n",
    "Create a 3D Matplotlib Surface Plot where,\n",
    "\n",
    "- X axis goes from -1 to 1 with a step of .1\n",
    "- Y axis is the absolute value of X\n",
    "- Z axis is the modulus of X to Y\n",
    "\n",
    "### Hints\n",
    "\n",
    "- Use numpy functions for mathematical operations\n",
    "- Most of the work has already been done in the Lesson\n",
    "- For the modulus function, first parameter is X, second parameter is Y\n",
    "\n",
    "### Solution\n",
    "\n",
    "![Graph Image Solution](https://i.imgur.com/qlIGnL1.png)"
   ]
  },
  {
   "cell_type": "code",
   "execution_count": 3,
   "metadata": {},
   "outputs": [
    {
     "name": "stdout",
     "output_type": "stream",
     "text": [
      "Solution to Challenge 3 goes here\n"
     ]
    }
   ],
   "source": [
    "print('Solution to Challenge 3 goes here')"
   ]
  }
 ],
 "metadata": {
  "kernelspec": {
   "display_name": "Python 3.6",
   "language": "python",
   "name": "python36"
  },
  "language_info": {
   "codemirror_mode": {
    "name": "ipython",
    "version": 3
   },
   "file_extension": ".py",
   "mimetype": "text/x-python",
   "name": "python",
   "nbconvert_exporter": "python",
   "pygments_lexer": "ipython3",
   "version": "3.6.3"
  }
 },
 "nbformat": 4,
 "nbformat_minor": 2
}
